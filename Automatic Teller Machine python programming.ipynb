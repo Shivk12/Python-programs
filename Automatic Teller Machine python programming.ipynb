{
 "cells": [
  {
   "cell_type": "code",
   "execution_count": 1,
   "id": "436fb981",
   "metadata": {},
   "outputs": [
    {
     "name": "stdout",
     "output_type": "stream",
     "text": [
      "please insert your card\n",
      "enter your pin1234\n",
      "press 1 for check balance\n",
      "press 2 for check Deposit\n",
      "press 3 for check withdraw\n",
      "please select your option3\n",
      "enter your amount\n",
      "amount to be withdrawl1200\n",
      "insufficient amount\n"
     ]
    }
   ],
   "source": [
    "print('please insert your card')\n",
    "balance=1000\n",
    "pin=float(input('enter your pin'))\n",
    "if pin==1234:\n",
    "    print('press 1 for check balance')\n",
    "    print('press 2 for check Deposit')\n",
    "    print('press 3 for check withdraw')\n",
    "    opt=int(input('please select your option'))\n",
    "    if opt==1:\n",
    "        print('your available balance is', balance)\n",
    "    elif opt==2:\n",
    "        print('please enter your value for deposit')\n",
    "        amount=float(input('enter your amount'))\n",
    "        print('available balance is', amount+balance)\n",
    "    elif opt==3:\n",
    "        print('enter your amount')\n",
    "        amount=float(input('amount to be withdrawl'))\n",
    "        if amount<balance:\n",
    "            print('available balance is',balance-amount)\n",
    "        else:\n",
    "            print('insufficient amount')\n",
    "    else:\n",
    "        print('not in option')\n",
    "else:\n",
    "    print('invalid pin')"
   ]
  },
  {
   "cell_type": "code",
   "execution_count": null,
   "id": "b8f8952d",
   "metadata": {},
   "outputs": [],
   "source": []
  }
 ],
 "metadata": {
  "kernelspec": {
   "display_name": "Python 3 (ipykernel)",
   "language": "python",
   "name": "python3"
  },
  "language_info": {
   "codemirror_mode": {
    "name": "ipython",
    "version": 3
   },
   "file_extension": ".py",
   "mimetype": "text/x-python",
   "name": "python",
   "nbconvert_exporter": "python",
   "pygments_lexer": "ipython3",
   "version": "3.9.12"
  }
 },
 "nbformat": 4,
 "nbformat_minor": 5
}
